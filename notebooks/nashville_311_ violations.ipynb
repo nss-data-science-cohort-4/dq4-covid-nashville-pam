{
 "cells": [
  {
   "cell_type": "code",
   "execution_count": 1,
   "metadata": {},
   "outputs": [],
   "source": [
    "import pandas as pd\n",
    "import numpy as np\n",
    "import matplotlib.pyplot as plt\n",
    "import seaborn as sns\n",
    "import scipy.stats as stats\n",
    "import statsmodels.api as sm\n",
    "%matplotlib inline"
   ]
  },
  {
   "cell_type": "code",
   "execution_count": 5,
   "metadata": {},
   "outputs": [
    {
     "name": "stderr",
     "output_type": "stream",
     "text": [
      "C:\\Users\\daily\\anaconda3\\lib\\site-packages\\IPython\\core\\interactiveshell.py:3071: DtypeWarning: Columns (17) have mixed types.Specify dtype option on import or set low_memory=False.\n",
      "  has_raised = await self.run_ast_nodes(code_ast.body, cell_name,\n"
     ]
    },
    {
     "data": {
      "text/html": [
       "<div>\n",
       "<style scoped>\n",
       "    .dataframe tbody tr th:only-of-type {\n",
       "        vertical-align: middle;\n",
       "    }\n",
       "\n",
       "    .dataframe tbody tr th {\n",
       "        vertical-align: top;\n",
       "    }\n",
       "\n",
       "    .dataframe thead th {\n",
       "        text-align: right;\n",
       "    }\n",
       "</style>\n",
       "<table border=\"1\" class=\"dataframe\">\n",
       "  <thead>\n",
       "    <tr style=\"text-align: right;\">\n",
       "      <th></th>\n",
       "      <th>Request #</th>\n",
       "      <th>Status</th>\n",
       "      <th>Request Type</th>\n",
       "      <th>Subrequest Type</th>\n",
       "      <th>Additional Subrequest Type</th>\n",
       "      <th>Date / Time Opened</th>\n",
       "      <th>Date / Time Closed</th>\n",
       "      <th>Request Origin</th>\n",
       "      <th>System of Origin ID</th>\n",
       "      <th>Contact Type</th>\n",
       "      <th>...</th>\n",
       "      <th>State Issue</th>\n",
       "      <th>Parent Request</th>\n",
       "      <th>Closed When Created</th>\n",
       "      <th>Address</th>\n",
       "      <th>City</th>\n",
       "      <th>Council District</th>\n",
       "      <th>ZIP</th>\n",
       "      <th>Latitude</th>\n",
       "      <th>Longitude</th>\n",
       "      <th>Mapped Location</th>\n",
       "    </tr>\n",
       "  </thead>\n",
       "  <tbody>\n",
       "    <tr>\n",
       "      <th>0</th>\n",
       "      <td>113016</td>\n",
       "      <td>Closed</td>\n",
       "      <td>Trash, Recycling &amp; Litter</td>\n",
       "      <td>Cart Service</td>\n",
       "      <td>Trash - Request an Additional Cart</td>\n",
       "      <td>10/30/2018 01:47:00 PM</td>\n",
       "      <td>03/05/2019 09:35:00 PM</td>\n",
       "      <td>Phone</td>\n",
       "      <td>NaN</td>\n",
       "      <td>NaN</td>\n",
       "      <td>...</td>\n",
       "      <td>False</td>\n",
       "      <td>NaN</td>\n",
       "      <td>False</td>\n",
       "      <td>2009 Upland Dr</td>\n",
       "      <td>NASHVILLE</td>\n",
       "      <td>7.0</td>\n",
       "      <td>37216</td>\n",
       "      <td>36.198638</td>\n",
       "      <td>-86.706659</td>\n",
       "      <td>(36.1986378, -86.7066586)</td>\n",
       "    </tr>\n",
       "    <tr>\n",
       "      <th>1</th>\n",
       "      <td>53502</td>\n",
       "      <td>Closed</td>\n",
       "      <td>Property Violations</td>\n",
       "      <td>Residential Complaint</td>\n",
       "      <td>Residential Complaint</td>\n",
       "      <td>03/13/2018 09:34:50 PM</td>\n",
       "      <td>04/06/2018 01:13:32 PM</td>\n",
       "      <td>Phone</td>\n",
       "      <td>NaN</td>\n",
       "      <td>NaN</td>\n",
       "      <td>...</td>\n",
       "      <td>False</td>\n",
       "      <td>NaN</td>\n",
       "      <td>False</td>\n",
       "      <td>631 Murfreesboro Pike</td>\n",
       "      <td>NASHVILLE</td>\n",
       "      <td>17.0</td>\n",
       "      <td>37210</td>\n",
       "      <td>36.140070</td>\n",
       "      <td>-86.738360</td>\n",
       "      <td>(36.14007, -86.73836)</td>\n",
       "    </tr>\n",
       "    <tr>\n",
       "      <th>2</th>\n",
       "      <td>119344</td>\n",
       "      <td>Closed</td>\n",
       "      <td>Trash, Recycling &amp; Litter</td>\n",
       "      <td>Damage to Property</td>\n",
       "      <td>Trash Service</td>\n",
       "      <td>11/27/2018 02:20:00 PM</td>\n",
       "      <td>11/29/2018 04:04:00 AM</td>\n",
       "      <td>Phone</td>\n",
       "      <td>NaN</td>\n",
       "      <td>NaN</td>\n",
       "      <td>...</td>\n",
       "      <td>False</td>\n",
       "      <td>NaN</td>\n",
       "      <td>True</td>\n",
       "      <td>597 Westchester Dr, Nashville, TN 37115, Unite...</td>\n",
       "      <td>MADISON</td>\n",
       "      <td>8.0</td>\n",
       "      <td>37115</td>\n",
       "      <td>36.263020</td>\n",
       "      <td>-86.738630</td>\n",
       "      <td>(36.26302, -86.73863)</td>\n",
       "    </tr>\n",
       "    <tr>\n",
       "      <th>3</th>\n",
       "      <td>127752</td>\n",
       "      <td>Closed</td>\n",
       "      <td>Trash, Recycling &amp; Litter</td>\n",
       "      <td>New Service/Activate Service</td>\n",
       "      <td>New Construction Residential Recycle</td>\n",
       "      <td>01/03/2019 06:57:00 PM</td>\n",
       "      <td>01/09/2019 10:09:00 AM</td>\n",
       "      <td>Phone</td>\n",
       "      <td>NaN</td>\n",
       "      <td>NaN</td>\n",
       "      <td>...</td>\n",
       "      <td>False</td>\n",
       "      <td>NaN</td>\n",
       "      <td>False</td>\n",
       "      <td>Ruffian Way</td>\n",
       "      <td>NaN</td>\n",
       "      <td>NaN</td>\n",
       "      <td>NaN</td>\n",
       "      <td>38.097609</td>\n",
       "      <td>-84.554097</td>\n",
       "      <td>(38.0976091, -84.5540971)</td>\n",
       "    </tr>\n",
       "    <tr>\n",
       "      <th>4</th>\n",
       "      <td>113477</td>\n",
       "      <td>Closed</td>\n",
       "      <td>Trash, Recycling &amp; Litter</td>\n",
       "      <td>Backdoor Trash or Recycle Waivers</td>\n",
       "      <td>Request Recycling Disability Waiver</td>\n",
       "      <td>10/31/2018 12:20:00 PM</td>\n",
       "      <td>10/31/2018 04:10:00 PM</td>\n",
       "      <td>Phone</td>\n",
       "      <td>NaN</td>\n",
       "      <td>NaN</td>\n",
       "      <td>...</td>\n",
       "      <td>False</td>\n",
       "      <td>NaN</td>\n",
       "      <td>True</td>\n",
       "      <td>2326 Smith Springs Rd, Nashville, TN 37217, Un...</td>\n",
       "      <td>NASHVILLE</td>\n",
       "      <td>29.0</td>\n",
       "      <td>37217</td>\n",
       "      <td>36.096460</td>\n",
       "      <td>-86.637440</td>\n",
       "      <td>(36.09646, -86.63744)</td>\n",
       "    </tr>\n",
       "  </tbody>\n",
       "</table>\n",
       "<p>5 rows × 21 columns</p>\n",
       "</div>"
      ],
      "text/plain": [
       "   Request #  Status               Request Type  \\\n",
       "0     113016  Closed  Trash, Recycling & Litter   \n",
       "1      53502  Closed        Property Violations   \n",
       "2     119344  Closed  Trash, Recycling & Litter   \n",
       "3     127752  Closed  Trash, Recycling & Litter   \n",
       "4     113477  Closed  Trash, Recycling & Litter   \n",
       "\n",
       "                     Subrequest Type            Additional Subrequest Type  \\\n",
       "0                       Cart Service    Trash - Request an Additional Cart   \n",
       "1              Residential Complaint                 Residential Complaint   \n",
       "2                 Damage to Property                         Trash Service   \n",
       "3       New Service/Activate Service  New Construction Residential Recycle   \n",
       "4  Backdoor Trash or Recycle Waivers   Request Recycling Disability Waiver   \n",
       "\n",
       "       Date / Time Opened      Date / Time Closed Request Origin  \\\n",
       "0  10/30/2018 01:47:00 PM  03/05/2019 09:35:00 PM          Phone   \n",
       "1  03/13/2018 09:34:50 PM  04/06/2018 01:13:32 PM          Phone   \n",
       "2  11/27/2018 02:20:00 PM  11/29/2018 04:04:00 AM          Phone   \n",
       "3  01/03/2019 06:57:00 PM  01/09/2019 10:09:00 AM          Phone   \n",
       "4  10/31/2018 12:20:00 PM  10/31/2018 04:10:00 PM          Phone   \n",
       "\n",
       "  System of Origin ID Contact Type  ...  State Issue  Parent Request  \\\n",
       "0                 NaN          NaN  ...        False             NaN   \n",
       "1                 NaN          NaN  ...        False             NaN   \n",
       "2                 NaN          NaN  ...        False             NaN   \n",
       "3                 NaN          NaN  ...        False             NaN   \n",
       "4                 NaN          NaN  ...        False             NaN   \n",
       "\n",
       "   Closed When Created                                            Address  \\\n",
       "0                False                                     2009 Upland Dr   \n",
       "1                False                              631 Murfreesboro Pike   \n",
       "2                 True  597 Westchester Dr, Nashville, TN 37115, Unite...   \n",
       "3                False                                        Ruffian Way   \n",
       "4                 True  2326 Smith Springs Rd, Nashville, TN 37217, Un...   \n",
       "\n",
       "        City Council District    ZIP   Latitude  Longitude  \\\n",
       "0  NASHVILLE              7.0  37216  36.198638 -86.706659   \n",
       "1  NASHVILLE             17.0  37210  36.140070 -86.738360   \n",
       "2    MADISON              8.0  37115  36.263020 -86.738630   \n",
       "3        NaN              NaN    NaN  38.097609 -84.554097   \n",
       "4  NASHVILLE             29.0  37217  36.096460 -86.637440   \n",
       "\n",
       "             Mapped Location  \n",
       "0  (36.1986378, -86.7066586)  \n",
       "1      (36.14007, -86.73836)  \n",
       "2      (36.26302, -86.73863)  \n",
       "3  (38.0976091, -84.5540971)  \n",
       "4      (36.09646, -86.63744)  \n",
       "\n",
       "[5 rows x 21 columns]"
      ]
     },
     "execution_count": 5,
     "metadata": {},
     "output_type": "execute_result"
    }
   ],
   "source": [
    "nville_311 = pd.read_csv('../data/hubNashville__311__Service_Requests.csv')\n",
    "covid_311.head()"
   ]
  },
  {
   "cell_type": "code",
   "execution_count": 6,
   "metadata": {},
   "outputs": [
    {
     "data": {
      "text/plain": [
       "Index(['Request #', 'Status', 'Request Type', 'Subrequest Type',\n",
       "       'Additional Subrequest Type', 'Date / Time Opened',\n",
       "       'Date / Time Closed', 'Request Origin', 'System of Origin ID',\n",
       "       'Contact Type', 'Preferred Language', 'State Issue', 'Parent Request',\n",
       "       'Closed When Created', 'Address', 'City', 'Council District', 'ZIP',\n",
       "       'Latitude', 'Longitude', 'Mapped Location'],\n",
       "      dtype='object')"
      ]
     },
     "execution_count": 6,
     "metadata": {},
     "output_type": "execute_result"
    }
   ],
   "source": [
    "nville_311.columns"
   ]
  },
  {
   "cell_type": "code",
   "execution_count": 10,
   "metadata": {},
   "outputs": [
    {
     "data": {
      "text/html": [
       "<div>\n",
       "<style scoped>\n",
       "    .dataframe tbody tr th:only-of-type {\n",
       "        vertical-align: middle;\n",
       "    }\n",
       "\n",
       "    .dataframe tbody tr th {\n",
       "        vertical-align: top;\n",
       "    }\n",
       "\n",
       "    .dataframe thead th {\n",
       "        text-align: right;\n",
       "    }\n",
       "</style>\n",
       "<table border=\"1\" class=\"dataframe\">\n",
       "  <thead>\n",
       "    <tr style=\"text-align: right;\">\n",
       "      <th></th>\n",
       "      <th>Request #</th>\n",
       "      <th>Status</th>\n",
       "      <th>Request Type</th>\n",
       "      <th>Subrequest Type</th>\n",
       "      <th>Additional Subrequest Type</th>\n",
       "      <th>Date / Time Opened</th>\n",
       "      <th>Date / Time Closed</th>\n",
       "      <th>Address</th>\n",
       "      <th>City</th>\n",
       "      <th>Council District</th>\n",
       "      <th>ZIP</th>\n",
       "      <th>Latitude</th>\n",
       "      <th>Longitude</th>\n",
       "      <th>Mapped Location</th>\n",
       "    </tr>\n",
       "  </thead>\n",
       "  <tbody>\n",
       "    <tr>\n",
       "      <th>0</th>\n",
       "      <td>113016</td>\n",
       "      <td>Closed</td>\n",
       "      <td>Trash, Recycling &amp; Litter</td>\n",
       "      <td>Cart Service</td>\n",
       "      <td>Trash - Request an Additional Cart</td>\n",
       "      <td>10/30/2018 01:47:00 PM</td>\n",
       "      <td>03/05/2019 09:35:00 PM</td>\n",
       "      <td>2009 Upland Dr</td>\n",
       "      <td>NASHVILLE</td>\n",
       "      <td>7.0</td>\n",
       "      <td>37216</td>\n",
       "      <td>36.198638</td>\n",
       "      <td>-86.706659</td>\n",
       "      <td>(36.1986378, -86.7066586)</td>\n",
       "    </tr>\n",
       "    <tr>\n",
       "      <th>1</th>\n",
       "      <td>53502</td>\n",
       "      <td>Closed</td>\n",
       "      <td>Property Violations</td>\n",
       "      <td>Residential Complaint</td>\n",
       "      <td>Residential Complaint</td>\n",
       "      <td>03/13/2018 09:34:50 PM</td>\n",
       "      <td>04/06/2018 01:13:32 PM</td>\n",
       "      <td>631 Murfreesboro Pike</td>\n",
       "      <td>NASHVILLE</td>\n",
       "      <td>17.0</td>\n",
       "      <td>37210</td>\n",
       "      <td>36.140070</td>\n",
       "      <td>-86.738360</td>\n",
       "      <td>(36.14007, -86.73836)</td>\n",
       "    </tr>\n",
       "    <tr>\n",
       "      <th>2</th>\n",
       "      <td>119344</td>\n",
       "      <td>Closed</td>\n",
       "      <td>Trash, Recycling &amp; Litter</td>\n",
       "      <td>Damage to Property</td>\n",
       "      <td>Trash Service</td>\n",
       "      <td>11/27/2018 02:20:00 PM</td>\n",
       "      <td>11/29/2018 04:04:00 AM</td>\n",
       "      <td>597 Westchester Dr, Nashville, TN 37115, Unite...</td>\n",
       "      <td>MADISON</td>\n",
       "      <td>8.0</td>\n",
       "      <td>37115</td>\n",
       "      <td>36.263020</td>\n",
       "      <td>-86.738630</td>\n",
       "      <td>(36.26302, -86.73863)</td>\n",
       "    </tr>\n",
       "    <tr>\n",
       "      <th>3</th>\n",
       "      <td>127752</td>\n",
       "      <td>Closed</td>\n",
       "      <td>Trash, Recycling &amp; Litter</td>\n",
       "      <td>New Service/Activate Service</td>\n",
       "      <td>New Construction Residential Recycle</td>\n",
       "      <td>01/03/2019 06:57:00 PM</td>\n",
       "      <td>01/09/2019 10:09:00 AM</td>\n",
       "      <td>Ruffian Way</td>\n",
       "      <td>NaN</td>\n",
       "      <td>NaN</td>\n",
       "      <td>NaN</td>\n",
       "      <td>38.097609</td>\n",
       "      <td>-84.554097</td>\n",
       "      <td>(38.0976091, -84.5540971)</td>\n",
       "    </tr>\n",
       "    <tr>\n",
       "      <th>4</th>\n",
       "      <td>113477</td>\n",
       "      <td>Closed</td>\n",
       "      <td>Trash, Recycling &amp; Litter</td>\n",
       "      <td>Backdoor Trash or Recycle Waivers</td>\n",
       "      <td>Request Recycling Disability Waiver</td>\n",
       "      <td>10/31/2018 12:20:00 PM</td>\n",
       "      <td>10/31/2018 04:10:00 PM</td>\n",
       "      <td>2326 Smith Springs Rd, Nashville, TN 37217, Un...</td>\n",
       "      <td>NASHVILLE</td>\n",
       "      <td>29.0</td>\n",
       "      <td>37217</td>\n",
       "      <td>36.096460</td>\n",
       "      <td>-86.637440</td>\n",
       "      <td>(36.09646, -86.63744)</td>\n",
       "    </tr>\n",
       "  </tbody>\n",
       "</table>\n",
       "</div>"
      ],
      "text/plain": [
       "   Request #  Status               Request Type  \\\n",
       "0     113016  Closed  Trash, Recycling & Litter   \n",
       "1      53502  Closed        Property Violations   \n",
       "2     119344  Closed  Trash, Recycling & Litter   \n",
       "3     127752  Closed  Trash, Recycling & Litter   \n",
       "4     113477  Closed  Trash, Recycling & Litter   \n",
       "\n",
       "                     Subrequest Type            Additional Subrequest Type  \\\n",
       "0                       Cart Service    Trash - Request an Additional Cart   \n",
       "1              Residential Complaint                 Residential Complaint   \n",
       "2                 Damage to Property                         Trash Service   \n",
       "3       New Service/Activate Service  New Construction Residential Recycle   \n",
       "4  Backdoor Trash or Recycle Waivers   Request Recycling Disability Waiver   \n",
       "\n",
       "       Date / Time Opened      Date / Time Closed  \\\n",
       "0  10/30/2018 01:47:00 PM  03/05/2019 09:35:00 PM   \n",
       "1  03/13/2018 09:34:50 PM  04/06/2018 01:13:32 PM   \n",
       "2  11/27/2018 02:20:00 PM  11/29/2018 04:04:00 AM   \n",
       "3  01/03/2019 06:57:00 PM  01/09/2019 10:09:00 AM   \n",
       "4  10/31/2018 12:20:00 PM  10/31/2018 04:10:00 PM   \n",
       "\n",
       "                                             Address       City  \\\n",
       "0                                     2009 Upland Dr  NASHVILLE   \n",
       "1                              631 Murfreesboro Pike  NASHVILLE   \n",
       "2  597 Westchester Dr, Nashville, TN 37115, Unite...    MADISON   \n",
       "3                                        Ruffian Way        NaN   \n",
       "4  2326 Smith Springs Rd, Nashville, TN 37217, Un...  NASHVILLE   \n",
       "\n",
       "   Council District    ZIP   Latitude  Longitude            Mapped Location  \n",
       "0               7.0  37216  36.198638 -86.706659  (36.1986378, -86.7066586)  \n",
       "1              17.0  37210  36.140070 -86.738360      (36.14007, -86.73836)  \n",
       "2               8.0  37115  36.263020 -86.738630      (36.26302, -86.73863)  \n",
       "3               NaN    NaN  38.097609 -84.554097  (38.0976091, -84.5540971)  \n",
       "4              29.0  37217  36.096460 -86.637440      (36.09646, -86.63744)  "
      ]
     },
     "execution_count": 10,
     "metadata": {},
     "output_type": "execute_result"
    }
   ],
   "source": [
    "covid_311 = nville_311.drop(['Request Origin', 'System of Origin ID',\n",
    "       'Contact Type', 'Preferred Language', 'State Issue', 'Parent Request',\n",
    "       'Closed When Created'], axis = 1)\n",
    "covid_311.head()"
   ]
  },
  {
   "cell_type": "code",
   "execution_count": 11,
   "metadata": {},
   "outputs": [
    {
     "name": "stdout",
     "output_type": "stream",
     "text": [
      "<class 'pandas.core.frame.DataFrame'>\n",
      "RangeIndex: 479306 entries, 0 to 479305\n",
      "Data columns (total 14 columns):\n",
      " #   Column                      Non-Null Count   Dtype  \n",
      "---  ------                      --------------   -----  \n",
      " 0   Request #                   479306 non-null  int64  \n",
      " 1   Status                      479306 non-null  object \n",
      " 2   Request Type                478975 non-null  object \n",
      " 3   Subrequest Type             475816 non-null  object \n",
      " 4   Additional Subrequest Type  475665 non-null  object \n",
      " 5   Date / Time Opened          479306 non-null  object \n",
      " 6   Date / Time Closed          467913 non-null  object \n",
      " 7   Address                     372094 non-null  object \n",
      " 8   City                        366461 non-null  object \n",
      " 9   Council District            366297 non-null  float64\n",
      " 10  ZIP                         366319 non-null  object \n",
      " 11  Latitude                    371347 non-null  float64\n",
      " 12  Longitude                   371347 non-null  float64\n",
      " 13  Mapped Location             371347 non-null  object \n",
      "dtypes: float64(3), int64(1), object(10)\n",
      "memory usage: 51.2+ MB\n"
     ]
    }
   ],
   "source": [
    "covid_311.info()"
   ]
  },
  {
   "cell_type": "code",
   "execution_count": 23,
   "metadata": {},
   "outputs": [],
   "source": [
    "covid_311_rt = covid_311.loc[covid_311['Request Type'].isin(['COVID-19'])]"
   ]
  },
  {
   "cell_type": "code",
   "execution_count": 24,
   "metadata": {},
   "outputs": [
    {
     "data": {
      "text/plain": [
       "array(['COVID-19 Violations', 'COVID-19 Questions',\n",
       "       'COVID-19 Guidance for Reopening Businesses',\n",
       "       'COVID-19 - Submit Input about The Plan to Reopen Nashville', nan],\n",
       "      dtype=object)"
      ]
     },
     "execution_count": 24,
     "metadata": {},
     "output_type": "execute_result"
    }
   ],
   "source": [
    "covid_311_rt['Subrequest Type'].unique()"
   ]
  },
  {
   "cell_type": "code",
   "execution_count": 29,
   "metadata": {},
   "outputs": [
    {
     "data": {
      "text/html": [
       "<div>\n",
       "<style scoped>\n",
       "    .dataframe tbody tr th:only-of-type {\n",
       "        vertical-align: middle;\n",
       "    }\n",
       "\n",
       "    .dataframe tbody tr th {\n",
       "        vertical-align: top;\n",
       "    }\n",
       "\n",
       "    .dataframe thead th {\n",
       "        text-align: right;\n",
       "    }\n",
       "</style>\n",
       "<table border=\"1\" class=\"dataframe\">\n",
       "  <thead>\n",
       "    <tr style=\"text-align: right;\">\n",
       "      <th></th>\n",
       "      <th>Request #</th>\n",
       "      <th>Status</th>\n",
       "      <th>Request Type</th>\n",
       "      <th>Subrequest Type</th>\n",
       "      <th>Additional Subrequest Type</th>\n",
       "      <th>Date / Time Opened</th>\n",
       "      <th>Date / Time Closed</th>\n",
       "      <th>Address</th>\n",
       "      <th>City</th>\n",
       "      <th>Council District</th>\n",
       "      <th>ZIP</th>\n",
       "      <th>Latitude</th>\n",
       "      <th>Longitude</th>\n",
       "      <th>Mapped Location</th>\n",
       "    </tr>\n",
       "  </thead>\n",
       "  <tbody>\n",
       "    <tr>\n",
       "      <th>1547</th>\n",
       "      <td>444823</td>\n",
       "      <td>Closed</td>\n",
       "      <td>COVID-19</td>\n",
       "      <td>COVID-19 Violations</td>\n",
       "      <td>COVID-19 Violations</td>\n",
       "      <td>08/14/2020 02:38:00 AM</td>\n",
       "      <td>08/14/2020 02:37:15 PM</td>\n",
       "      <td>2045 Antioch Pike</td>\n",
       "      <td>ANTIOCH</td>\n",
       "      <td>28.0</td>\n",
       "      <td>37013</td>\n",
       "      <td>36.068546</td>\n",
       "      <td>-86.683898</td>\n",
       "      <td>(36.0685457, -86.6838975)</td>\n",
       "    </tr>\n",
       "    <tr>\n",
       "      <th>3379</th>\n",
       "      <td>479965</td>\n",
       "      <td>Closed</td>\n",
       "      <td>COVID-19</td>\n",
       "      <td>COVID-19 Violations</td>\n",
       "      <td>COVID-19 Violations</td>\n",
       "      <td>10/13/2020 11:48:40 AM</td>\n",
       "      <td>10/13/2020 01:48:08 PM</td>\n",
       "      <td>2800 Opryland Dr</td>\n",
       "      <td>NASHVILLE</td>\n",
       "      <td>15.0</td>\n",
       "      <td>37214</td>\n",
       "      <td>36.211269</td>\n",
       "      <td>-86.694302</td>\n",
       "      <td>(36.211269429469425, -86.6943024067459)</td>\n",
       "    </tr>\n",
       "    <tr>\n",
       "      <th>3660</th>\n",
       "      <td>392927</td>\n",
       "      <td>Closed</td>\n",
       "      <td>COVID-19</td>\n",
       "      <td>COVID-19 Violations</td>\n",
       "      <td>COVID-19 Violations</td>\n",
       "      <td>06/16/2020 12:35:20 AM</td>\n",
       "      <td>06/17/2020 02:28:19 PM</td>\n",
       "      <td>2607 12th Ave S</td>\n",
       "      <td>NASHVILLE</td>\n",
       "      <td>18.0</td>\n",
       "      <td>37204</td>\n",
       "      <td>36.123500</td>\n",
       "      <td>-86.790130</td>\n",
       "      <td>(36.1235, -86.79013)</td>\n",
       "    </tr>\n",
       "  </tbody>\n",
       "</table>\n",
       "</div>"
      ],
      "text/plain": [
       "      Request #  Status Request Type      Subrequest Type  \\\n",
       "1547     444823  Closed     COVID-19  COVID-19 Violations   \n",
       "3379     479965  Closed     COVID-19  COVID-19 Violations   \n",
       "3660     392927  Closed     COVID-19  COVID-19 Violations   \n",
       "\n",
       "     Additional Subrequest Type      Date / Time Opened  \\\n",
       "1547        COVID-19 Violations  08/14/2020 02:38:00 AM   \n",
       "3379        COVID-19 Violations  10/13/2020 11:48:40 AM   \n",
       "3660        COVID-19 Violations  06/16/2020 12:35:20 AM   \n",
       "\n",
       "          Date / Time Closed            Address       City  Council District  \\\n",
       "1547  08/14/2020 02:37:15 PM  2045 Antioch Pike    ANTIOCH              28.0   \n",
       "3379  10/13/2020 01:48:08 PM   2800 Opryland Dr  NASHVILLE              15.0   \n",
       "3660  06/17/2020 02:28:19 PM    2607 12th Ave S  NASHVILLE              18.0   \n",
       "\n",
       "        ZIP   Latitude  Longitude                          Mapped Location  \n",
       "1547  37013  36.068546 -86.683898                (36.0685457, -86.6838975)  \n",
       "3379  37214  36.211269 -86.694302  (36.211269429469425, -86.6943024067459)  \n",
       "3660  37204  36.123500 -86.790130                     (36.1235, -86.79013)  "
      ]
     },
     "execution_count": 29,
     "metadata": {},
     "output_type": "execute_result"
    }
   ],
   "source": [
    "covid_311_srt = covid_311_rt.loc[covid_311_rt['Subrequest Type'].isin(['COVID-19 Violations'])]\n",
    "covid_311_srt.head(3)"
   ]
  },
  {
   "cell_type": "code",
   "execution_count": 15,
   "metadata": {},
   "outputs": [
    {
     "data": {
      "text/plain": [
       "array(['COVID-19 Violations', nan], dtype=object)"
      ]
     },
     "execution_count": 15,
     "metadata": {},
     "output_type": "execute_result"
    }
   ],
   "source": [
    "covid_311_srt['Additional Subrequest Type'].unique()"
   ]
  },
  {
   "cell_type": "code",
   "execution_count": 28,
   "metadata": {},
   "outputs": [
    {
     "data": {
      "text/html": [
       "<div>\n",
       "<style scoped>\n",
       "    .dataframe tbody tr th:only-of-type {\n",
       "        vertical-align: middle;\n",
       "    }\n",
       "\n",
       "    .dataframe tbody tr th {\n",
       "        vertical-align: top;\n",
       "    }\n",
       "\n",
       "    .dataframe thead th {\n",
       "        text-align: right;\n",
       "    }\n",
       "</style>\n",
       "<table border=\"1\" class=\"dataframe\">\n",
       "  <thead>\n",
       "    <tr style=\"text-align: right;\">\n",
       "      <th></th>\n",
       "      <th>Request #</th>\n",
       "      <th>Status</th>\n",
       "      <th>Request Type</th>\n",
       "      <th>Subrequest Type</th>\n",
       "      <th>Additional Subrequest Type</th>\n",
       "      <th>Date / Time Opened</th>\n",
       "      <th>Date / Time Closed</th>\n",
       "      <th>Address</th>\n",
       "      <th>City</th>\n",
       "      <th>Council District</th>\n",
       "      <th>ZIP</th>\n",
       "      <th>Latitude</th>\n",
       "      <th>Longitude</th>\n",
       "      <th>Mapped Location</th>\n",
       "    </tr>\n",
       "  </thead>\n",
       "  <tbody>\n",
       "    <tr>\n",
       "      <th>1547</th>\n",
       "      <td>444823</td>\n",
       "      <td>Closed</td>\n",
       "      <td>COVID-19</td>\n",
       "      <td>COVID-19 Violations</td>\n",
       "      <td>COVID-19 Violations</td>\n",
       "      <td>08/14/2020 02:38:00 AM</td>\n",
       "      <td>08/14/2020 02:37:15 PM</td>\n",
       "      <td>2045 Antioch Pike</td>\n",
       "      <td>ANTIOCH</td>\n",
       "      <td>28.0</td>\n",
       "      <td>37013</td>\n",
       "      <td>36.068546</td>\n",
       "      <td>-86.683898</td>\n",
       "      <td>(36.0685457, -86.6838975)</td>\n",
       "    </tr>\n",
       "    <tr>\n",
       "      <th>3379</th>\n",
       "      <td>479965</td>\n",
       "      <td>Closed</td>\n",
       "      <td>COVID-19</td>\n",
       "      <td>COVID-19 Violations</td>\n",
       "      <td>COVID-19 Violations</td>\n",
       "      <td>10/13/2020 11:48:40 AM</td>\n",
       "      <td>10/13/2020 01:48:08 PM</td>\n",
       "      <td>2800 Opryland Dr</td>\n",
       "      <td>NASHVILLE</td>\n",
       "      <td>15.0</td>\n",
       "      <td>37214</td>\n",
       "      <td>36.211269</td>\n",
       "      <td>-86.694302</td>\n",
       "      <td>(36.211269429469425, -86.6943024067459)</td>\n",
       "    </tr>\n",
       "    <tr>\n",
       "      <th>3660</th>\n",
       "      <td>392927</td>\n",
       "      <td>Closed</td>\n",
       "      <td>COVID-19</td>\n",
       "      <td>COVID-19 Violations</td>\n",
       "      <td>COVID-19 Violations</td>\n",
       "      <td>06/16/2020 12:35:20 AM</td>\n",
       "      <td>06/17/2020 02:28:19 PM</td>\n",
       "      <td>2607 12th Ave S</td>\n",
       "      <td>NASHVILLE</td>\n",
       "      <td>18.0</td>\n",
       "      <td>37204</td>\n",
       "      <td>36.123500</td>\n",
       "      <td>-86.790130</td>\n",
       "      <td>(36.1235, -86.79013)</td>\n",
       "    </tr>\n",
       "  </tbody>\n",
       "</table>\n",
       "</div>"
      ],
      "text/plain": [
       "      Request #  Status Request Type      Subrequest Type  \\\n",
       "1547     444823  Closed     COVID-19  COVID-19 Violations   \n",
       "3379     479965  Closed     COVID-19  COVID-19 Violations   \n",
       "3660     392927  Closed     COVID-19  COVID-19 Violations   \n",
       "\n",
       "     Additional Subrequest Type      Date / Time Opened  \\\n",
       "1547        COVID-19 Violations  08/14/2020 02:38:00 AM   \n",
       "3379        COVID-19 Violations  10/13/2020 11:48:40 AM   \n",
       "3660        COVID-19 Violations  06/16/2020 12:35:20 AM   \n",
       "\n",
       "          Date / Time Closed            Address       City  Council District  \\\n",
       "1547  08/14/2020 02:37:15 PM  2045 Antioch Pike    ANTIOCH              28.0   \n",
       "3379  10/13/2020 01:48:08 PM   2800 Opryland Dr  NASHVILLE              15.0   \n",
       "3660  06/17/2020 02:28:19 PM    2607 12th Ave S  NASHVILLE              18.0   \n",
       "\n",
       "        ZIP   Latitude  Longitude                          Mapped Location  \n",
       "1547  37013  36.068546 -86.683898                (36.0685457, -86.6838975)  \n",
       "3379  37214  36.211269 -86.694302  (36.211269429469425, -86.6943024067459)  \n",
       "3660  37204  36.123500 -86.790130                     (36.1235, -86.79013)  "
      ]
     },
     "execution_count": 28,
     "metadata": {},
     "output_type": "execute_result"
    }
   ],
   "source": [
    "covid_311_srt.drop(columns = ['Additional Subrequest Type'], axis = 1)\n",
    "covid_311_srt.head(3)"
   ]
  },
  {
   "cell_type": "code",
   "execution_count": 27,
   "metadata": {},
   "outputs": [
    {
     "data": {
      "text/plain": [
       "4829"
      ]
     },
     "execution_count": 27,
     "metadata": {},
     "output_type": "execute_result"
    }
   ],
   "source": [
    "covid_311_srt['Address'].nunique()"
   ]
  },
  {
   "cell_type": "code",
   "execution_count": 30,
   "metadata": {},
   "outputs": [
    {
     "data": {
      "text/plain": [
       "array(['ANTIOCH', 'NASHVILLE', 'Nashville', 'MADISON', nan, 'HERMITAGE',\n",
       "       'GOODLETTSVILLE', 'BRENTWOOD', 'JOELTON', 'OLD HICKORY',\n",
       "       'WHITES CREEK', 'LAVERGNE', 'NOLENSVILLE', 'LA VERGNE'],\n",
       "      dtype=object)"
      ]
     },
     "execution_count": 30,
     "metadata": {},
     "output_type": "execute_result"
    }
   ],
   "source": [
    "covid_311_srt['City'].unique()"
   ]
  },
  {
   "cell_type": "code",
   "execution_count": 32,
   "metadata": {},
   "outputs": [
    {
     "data": {
      "text/plain": [
       "10653"
      ]
     },
     "execution_count": 32,
     "metadata": {},
     "output_type": "execute_result"
    }
   ],
   "source": [
    "covid_311_srt['City'].count()"
   ]
  },
  {
   "cell_type": "code",
   "execution_count": 22,
   "metadata": {},
   "outputs": [
    {
     "data": {
      "text/plain": [
       "array(['COVID-19 Violations'], dtype=object)"
      ]
     },
     "execution_count": 22,
     "metadata": {},
     "output_type": "execute_result"
    }
   ],
   "source": [
    "covid_311_srt['Subrequest Type'].unique()"
   ]
  },
  {
   "cell_type": "code",
   "execution_count": 25,
   "metadata": {},
   "outputs": [
    {
     "data": {
      "text/plain": [
       "1547     2020-08-14 02:38:00\n",
       "3379     2020-10-13 11:48:40\n",
       "3660     2020-06-16 00:35:20\n",
       "3844     2020-08-13 18:50:31\n",
       "3876     2020-08-13 18:03:09\n",
       "                 ...        \n",
       "479064   2020-10-31 00:17:13\n",
       "479070   2020-10-29 20:50:02\n",
       "479073   2020-10-29 15:32:36\n",
       "479105   2020-10-30 21:47:56\n",
       "479249   2020-10-30 03:50:56\n",
       "Name: Date / Time Opened, Length: 11632, dtype: datetime64[ns]"
      ]
     },
     "execution_count": 25,
     "metadata": {},
     "output_type": "execute_result"
    }
   ],
   "source": [
    "covid_311_srt['Date / Time Opened'].astype(\"datetime64[ns]\")"
   ]
  },
  {
   "cell_type": "code",
   "execution_count": 26,
   "metadata": {},
   "outputs": [
    {
     "data": {
      "text/plain": [
       "1547     2020-08-14 14:37:15\n",
       "3379     2020-10-13 13:48:08\n",
       "3660     2020-06-17 14:28:19\n",
       "3844     2020-08-14 14:22:11\n",
       "3876     2020-08-14 14:18:59\n",
       "                 ...        \n",
       "479064   2020-11-02 15:40:13\n",
       "479070   2020-10-30 14:13:33\n",
       "479073   2020-10-30 14:10:33\n",
       "479105   2020-11-02 15:50:18\n",
       "479249   2020-10-30 13:57:59\n",
       "Name: Date / Time Closed, Length: 11632, dtype: datetime64[ns]"
      ]
     },
     "execution_count": 26,
     "metadata": {},
     "output_type": "execute_result"
    }
   ],
   "source": [
    "covid_311_srt['Date / Time Closed'].astype(\"datetime64[ns]\")"
   ]
  },
  {
   "cell_type": "code",
   "execution_count": 35,
   "metadata": {},
   "outputs": [
    {
     "data": {
      "text/plain": [
       "City\n",
       "ANTIOCH            470\n",
       "BRENTWOOD           49\n",
       "GOODLETTSVILLE     207\n",
       "HERMITAGE          431\n",
       "JOELTON             43\n",
       "LA VERGNE            1\n",
       "LAVERGNE             9\n",
       "MADISON            582\n",
       "NASHVILLE         8627\n",
       "NOLENSVILLE          5\n",
       "Nashville            0\n",
       "OLD HICKORY        200\n",
       "WHITES CREEK        27\n",
       "Name: Council District, dtype: int64"
      ]
     },
     "execution_count": 35,
     "metadata": {},
     "output_type": "execute_result"
    }
   ],
   "source": [
    "covid_311_srt.groupby('City')['Council District'].count()"
   ]
  },
  {
   "cell_type": "code",
   "execution_count": null,
   "metadata": {},
   "outputs": [],
   "source": [
    "#house_sales.groupby('date')['id'].count()"
   ]
  }
 ],
 "metadata": {
  "kernelspec": {
   "display_name": "Python 3",
   "language": "python",
   "name": "python3"
  },
  "language_info": {
   "codemirror_mode": {
    "name": "ipython",
    "version": 3
   },
   "file_extension": ".py",
   "mimetype": "text/x-python",
   "name": "python",
   "nbconvert_exporter": "python",
   "pygments_lexer": "ipython3",
   "version": "3.8.3"
  }
 },
 "nbformat": 4,
 "nbformat_minor": 4
}
